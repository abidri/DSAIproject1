{
 "cells": [
  {
   "cell_type": "code",
   "execution_count": 1,
   "id": "e609e2c8",
   "metadata": {},
   "outputs": [
    {
     "name": "stdout",
     "output_type": "stream",
     "text": [
      "\n",
      "Welcome to Python 3.10's help utility!\n",
      "\n",
      "If this is your first time using Python, you should definitely check out\n",
      "the tutorial on the internet at https://docs.python.org/3.10/tutorial/.\n",
      "\n",
      "Enter the name of any module, keyword, or topic to get help on writing\n",
      "Python programs and using Python modules.  To quit this help utility and\n",
      "return to the interpreter, just type \"quit\".\n",
      "\n",
      "To get a list of available modules, keywords, symbols, or topics, type\n",
      "\"modules\", \"keywords\", \"symbols\", or \"topics\".  Each module also comes\n",
      "with a one-line summary of what it does; to list the modules whose name\n",
      "or summary contain a given string such as \"spam\", type \"modules spam\".\n",
      "\n",
      "\n",
      "You are now leaving help and returning to the Python interpreter.\n",
      "If you want to ask for help on a particular object directly from the\n",
      "interpreter, you can type \"help(object)\".  Executing \"help('string')\"\n",
      "has the same effect as typing a particular string at the help> prompt.\n"
     ]
    }
   ],
   "source": [
    "help()"
   ]
  },
  {
   "cell_type": "code",
   "execution_count": null,
   "id": "f469e1e9",
   "metadata": {},
   "outputs": [],
   "source": [
    "help(\"modules\")"
   ]
  },
  {
   "cell_type": "code",
   "execution_count": null,
   "id": "0a4e5bca",
   "metadata": {},
   "outputs": [],
   "source": [
    "type(\"modules\")"
   ]
  },
  {
   "cell_type": "code",
   "execution_count": null,
   "id": "0d84e69b",
   "metadata": {},
   "outputs": [],
   "source": [
    "x = [\"apple\",\"banana\"]\n",
    "y = [\"apple\",\"banana\"]\n",
    "z= x\n",
    "print(x is y)"
   ]
  },
  {
   "cell_type": "code",
   "execution_count": 6,
   "id": "badfdf7d",
   "metadata": {},
   "outputs": [
    {
     "name": "stdout",
     "output_type": "stream",
     "text": [
      "Enter the text please: i love python programming\n",
      "The line is in UPPRCASE  I LOVE PYTHON PROGRAMMING\n",
      "Enter the text please: PAKISTAN\n",
      "The line is in lowercase pakistan\n"
     ]
    }
   ],
   "source": [
    "#LAB TASK 1\n",
    "str1 =input('Enter the text please: ')\n",
    "print(\"The line is in UPPRCASE \",str1.upper())\n",
    "str2 =input('Enter the text please: ')\n",
    "print(\"The line is in lowercase\",str2.lower())"
   ]
  },
  {
   "cell_type": "code",
   "execution_count": 1,
   "id": "46559bda",
   "metadata": {},
   "outputs": [
    {
     "name": "stdout",
     "output_type": "stream",
     "text": [
      "The number of words are:  4\n"
     ]
    }
   ],
   "source": [
    "#LAB TASK 2\n",
    "str1='Ali is my friend'\n",
    "#string = input('Enter the string: \\n')\n",
    "print('The number of words are: ',str1.count(' ')+1)"
   ]
  },
  {
   "cell_type": "code",
   "execution_count": 2,
   "id": "a729f5e9",
   "metadata": {},
   "outputs": [],
   "source": [
    "#lab Task\n",
    "ids = [4353, 2314, 2956, 3382, 9362, 3900]\n"
   ]
  },
  {
   "cell_type": "code",
   "execution_count": 3,
   "id": "bde5e681",
   "metadata": {},
   "outputs": [
    {
     "name": "stdout",
     "output_type": "stream",
     "text": [
      "[4353, 2314, 2956, 3382, 9362, 3900]\n"
     ]
    }
   ],
   "source": [
    "print(ids)"
   ]
  },
  {
   "cell_type": "code",
   "execution_count": 4,
   "id": "65d7b581",
   "metadata": {},
   "outputs": [],
   "source": [
    "ids.remove(3382)"
   ]
  },
  {
   "cell_type": "code",
   "execution_count": 5,
   "id": "5ce817c5",
   "metadata": {},
   "outputs": [
    {
     "name": "stdout",
     "output_type": "stream",
     "text": [
      "[4353, 2314, 2956, 9362, 3900]\n"
     ]
    }
   ],
   "source": [
    "print(ids)"
   ]
  },
  {
   "cell_type": "code",
   "execution_count": 6,
   "id": "028ac004",
   "metadata": {},
   "outputs": [
    {
     "data": {
      "text/plain": [
       "3"
      ]
     },
     "execution_count": 6,
     "metadata": {},
     "output_type": "execute_result"
    }
   ],
   "source": [
    "ids.index(9362)"
   ]
  },
  {
   "cell_type": "code",
   "execution_count": 7,
   "id": "9e8e6550",
   "metadata": {},
   "outputs": [],
   "source": [
    "ids.insert(3,4499)"
   ]
  },
  {
   "cell_type": "code",
   "execution_count": 8,
   "id": "e2a2e4bd",
   "metadata": {},
   "outputs": [
    {
     "data": {
      "text/plain": [
       "[4353, 2314, 2956, 4499, 9362, 3900]"
      ]
     },
     "execution_count": 8,
     "metadata": {},
     "output_type": "execute_result"
    }
   ],
   "source": [
    "ids"
   ]
  },
  {
   "cell_type": "code",
   "execution_count": 9,
   "id": "235af233",
   "metadata": {},
   "outputs": [],
   "source": [
    "ids.extend([5566, 1830])"
   ]
  },
  {
   "cell_type": "code",
   "execution_count": 10,
   "id": "aee27af6",
   "metadata": {},
   "outputs": [
    {
     "data": {
      "text/plain": [
       "[4353, 2314, 2956, 4499, 9362, 3900, 5566, 1830]"
      ]
     },
     "execution_count": 10,
     "metadata": {},
     "output_type": "execute_result"
    }
   ],
   "source": [
    "ids"
   ]
  },
  {
   "cell_type": "code",
   "execution_count": 13,
   "id": "94e71325",
   "metadata": {},
   "outputs": [
    {
     "data": {
      "text/plain": [
       "[4353, 2314, 2956, 4499, 9362, 3900, 5566, 1830]"
      ]
     },
     "execution_count": 13,
     "metadata": {},
     "output_type": "execute_result"
    }
   ],
   "source": [
    "ids\n"
   ]
  },
  {
   "cell_type": "code",
   "execution_count": 14,
   "id": "fe1f0878",
   "metadata": {},
   "outputs": [],
   "source": [
    "ids.reverse()"
   ]
  },
  {
   "cell_type": "code",
   "execution_count": 15,
   "id": "eea3f395",
   "metadata": {},
   "outputs": [
    {
     "data": {
      "text/plain": [
       "[1830, 5566, 3900, 9362, 4499, 2956, 2314, 4353]"
      ]
     },
     "execution_count": 15,
     "metadata": {},
     "output_type": "execute_result"
    }
   ],
   "source": [
    "ids"
   ]
  },
  {
   "cell_type": "code",
   "execution_count": 16,
   "id": "40c7f88d",
   "metadata": {},
   "outputs": [],
   "source": [
    "ids.sort()"
   ]
  },
  {
   "cell_type": "code",
   "execution_count": 17,
   "id": "f05a8aec",
   "metadata": {},
   "outputs": [
    {
     "data": {
      "text/plain": [
       "[1830, 2314, 2956, 3900, 4353, 4499, 5566, 9362]"
      ]
     },
     "execution_count": 17,
     "metadata": {},
     "output_type": "execute_result"
    }
   ],
   "source": [
    "ids"
   ]
  },
  {
   "cell_type": "code",
   "execution_count": 18,
   "id": "2b1da799",
   "metadata": {},
   "outputs": [
    {
     "name": "stdout",
     "output_type": "stream",
     "text": [
      "[6, 6, 3, 6, 9, 11, 6, 7, 11, 9] Dice roll\n"
     ]
    }
   ],
   "source": [
    "#Program probablity\n",
    "from random import randint\n",
    "dice_roll=[]\n",
    "outcome =(2,3,4,5,6,7,8,9,10,11,12)\n",
    "sim =10\n",
    "\n",
    "for simulations in range(sim):\n",
    "    first_dice_roll = randint(1,6)\n",
    "    second_dice_roll = randint(1,6)\n",
    "\n",
    "    dice_roll.append(first_dice_roll + second_dice_roll)\n",
    "    sumi = sum(dice_roll)\n",
    "print(dice_roll,\"Dice roll\")"
   ]
  },
  {
   "cell_type": "code",
   "execution_count": 19,
   "id": "c085b74d",
   "metadata": {},
   "outputs": [
    {
     "name": "stdout",
     "output_type": "stream",
     "text": [
      "Percentage for rolling a sum of 2 is: 2.704\n",
      "Percentage for rolling a sum of 3 is: 5.593\n",
      "Percentage for rolling a sum of 4 is: 8.437\n",
      "Percentage for rolling a sum of 5 is: 11.057\n",
      "Percentage for rolling a sum of 6 is: 13.716000000000001\n",
      "Percentage for rolling a sum of 7 is: 16.683999999999997\n",
      "Percentage for rolling a sum of 8 is: 14.038999999999998\n",
      "Percentage for rolling a sum of 9 is: 11.111\n",
      "Percentage for rolling a sum of 10 is: 8.267\n",
      "Percentage for rolling a sum of 11 is: 5.607\n",
      "Percentage for rolling a sum of 12 is: 2.785\n"
     ]
    }
   ],
   "source": [
    "from random import randint\n",
    "outcome = {2:0,3:0,4:0,5:0,6:0,7:0,8:0,9:0,10:0,11:0,12:0} #map of sum:freq\n",
    "sim =100000\n",
    "\n",
    "for simulations in range(sim):\n",
    "    first_dice_roll = randint(1,6)\n",
    "    second_dice_roll = randint(1,6)\n",
    "    sum_dice = first_dice_roll + second_dice_roll\n",
    "    outcome[sum_dice] += 1 \n",
    "    \n",
    "for key in outcome.keys():\n",
    "    print(\"Percentage for rolling a sum of %s is: %s\"%(key,outcome[key]/sim*100))"
   ]
  },
  {
   "cell_type": "code",
   "execution_count": 21,
   "id": "3de07278",
   "metadata": {},
   "outputs": [
    {
     "data": {
      "text/plain": [
       "6.2727272727272725"
      ]
     },
     "execution_count": 21,
     "metadata": {},
     "output_type": "execute_result"
    }
   ],
   "source": [
    "import statistics\n",
    "statistics.mean([4,5,7,9,11,8,4,6,7,3,5])"
   ]
  },
  {
   "cell_type": "code",
   "execution_count": 22,
   "id": "6a261e53",
   "metadata": {},
   "outputs": [
    {
     "data": {
      "text/plain": [
       "6"
      ]
     },
     "execution_count": 22,
     "metadata": {},
     "output_type": "execute_result"
    }
   ],
   "source": [
    "import statistics\n",
    "statistics.median([4,5,7,9,11,8,4,6,7,3,5])"
   ]
  },
  {
   "cell_type": "code",
   "execution_count": 23,
   "id": "fec63c51",
   "metadata": {},
   "outputs": [
    {
     "name": "stdout",
     "output_type": "stream",
     "text": [
      "The mean or average of all these numbers ( [2, 3, 5, 7, 8] ) is 5.0\n"
     ]
    }
   ],
   "source": [
    "numb = [2, 3, 5, 7, 8]\n",
    "no = len(numb)\n",
    "summ = sum(numb)\n",
    "mean = summ / no\n",
    "print(\"The mean or average of all these numbers (\", numb, \") is\", str(mean))"
   ]
  },
  {
   "cell_type": "code",
   "execution_count": null,
   "id": "228ea84e",
   "metadata": {},
   "outputs": [],
   "source": []
  }
 ],
 "metadata": {
  "kernelspec": {
   "display_name": "Python 3 (ipykernel)",
   "language": "python",
   "name": "python3"
  },
  "language_info": {
   "codemirror_mode": {
    "name": "ipython",
    "version": 3
   },
   "file_extension": ".py",
   "mimetype": "text/x-python",
   "name": "python",
   "nbconvert_exporter": "python",
   "pygments_lexer": "ipython3",
   "version": "3.10.9"
  }
 },
 "nbformat": 4,
 "nbformat_minor": 5
}
