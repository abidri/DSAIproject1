{
 "cells": [
  {
   "cell_type": "code",
   "execution_count": 3,
   "id": "a34ca1f1",
   "metadata": {},
   "outputs": [],
   "source": [
    "import numpy as np\n",
    "import matplotlib.pyplot as plt\n",
    "from sklearn.model_selection import train_test_split\n",
    "from sklearn import metrics\n",
    "import pandas as pd\n",
    "from sklearn.metrics import mean_absolute_error\n",
    "from sklearn.linear_model import LogisticRegression\n",
    "from sklearn.metrics import accuracy_score\n",
    "import scipy"
   ]
  },
  {
   "cell_type": "code",
   "execution_count": 4,
   "id": "ed90024e",
   "metadata": {},
   "outputs": [],
   "source": [
    "def readData(file_name):\n",
    "    data = pd.read_csv(\"F:/NUST DATA SCIENCE/Logistic/dataset.csv\")\n",
    "    X = data[['length','width']]\n",
    "    y = data['Type']\n",
    "    X = np.concatenate((np.ones((X.shape[0], 1)), x), axis=1)\n",
    "    return x,y\n",
    "    x,y = readData(\"F:/NUST DATA SCIENCE/Logistic/dataset.csv\")\n",
    "    "
   ]
  },
  {
   "cell_type": "code",
   "execution_count": 2,
   "id": "c8257ee4",
   "metadata": {},
   "outputs": [
    {
     "ename": "NameError",
     "evalue": "name 'train_test_split' is not defined",
     "output_type": "error",
     "traceback": [
      "\u001b[1;31m---------------------------------------------------------------------------\u001b[0m",
      "\u001b[1;31mNameError\u001b[0m                                 Traceback (most recent call last)",
      "Cell \u001b[1;32mIn[2], line 13\u001b[0m\n\u001b[0;32m     11\u001b[0m     coef \u001b[38;5;241m=\u001b[39mreg\u001b[38;5;241m.\u001b[39mcoef_\n\u001b[0;32m     12\u001b[0m     \u001b[38;5;28;01mreturn\u001b[39;00m test_Acc, train_Acc, train_error, test_error, coef\n\u001b[1;32m---> 13\u001b[0m X_train,X_test,y_train,y_test\u001b[38;5;241m=\u001b[39m\u001b[43mtrain_test_split\u001b[49m(x,y,test_size\u001b[38;5;241m=\u001b[39m\u001b[38;5;241m0.2\u001b[39m)\n\u001b[0;32m     14\u001b[0m test_Acc,train_Acc,train_error,test_error,coef\u001b[38;5;241m=\u001b[39mLogisticRegressionmodel(X_train,X_test,y_train,y_test)\n\u001b[0;32m     15\u001b[0m \u001b[38;5;28mprint\u001b[39m(\u001b[38;5;124m\"\u001b[39m\u001b[38;5;124mTest Accuracy\u001b[39m\u001b[38;5;124m\"\u001b[39m,test_Acc,\u001b[38;5;124m\"\u001b[39m\u001b[38;5;124mtrain Accuracy\u001b[39m\u001b[38;5;124m\"\u001b[39m,train_Acc,\u001b[38;5;124m\"\u001b[39m\u001b[38;5;124mtrain_error\u001b[39m\u001b[38;5;124m\"\u001b[39m,train_error,)\n",
      "\u001b[1;31mNameError\u001b[0m: name 'train_test_split' is not defined"
     ]
    }
   ],
   "source": [
    "def LogisticRegressionmodel (X_train, X_test, y_train, y_test):\n",
    "    #X = normalize(X)\n",
    "    reg = LogisticRegression (random_state=0).fit(X_train, y_train)\n",
    "    #reg.fit(X_train, y_train)\n",
    "    train_Acc = reg.score(X_train, y_train)\n",
    "    test_Acc = reg.score (X_test, y_test)\n",
    "    y_train_pred = reg.predict(X_train)\n",
    "    y_test_pred = reg.predict(X_test)\n",
    "    train_error=metrics.mean_absolute_error(y_train, y_train_pred)/1000 \n",
    "    test_error =metrics.mean_absolute_error(y_test, y_test_pred)/1000\n",
    "    coef =reg.coef_\n",
    "    return test_Acc, train_Acc, train_error, test_error, coef\n",
    "X_train,X_test,y_train,y_test=train_test_split(x,y,test_size=0.2)\n",
    "test_Acc,train_Acc,train_error,test_error,coef=LogisticRegressionmodel(X_train,X_test,y_train,y_test)\n",
    "print(\"Test Accuracy\",test_Acc,\"train Accuracy\",train_Acc,\"train_error\",train_error,)"
   ]
  },
  {
   "cell_type": "code",
   "execution_count": null,
   "id": "636a192a",
   "metadata": {},
   "outputs": [],
   "source": []
  }
 ],
 "metadata": {
  "kernelspec": {
   "display_name": "Python 3 (ipykernel)",
   "language": "python",
   "name": "python3"
  },
  "language_info": {
   "codemirror_mode": {
    "name": "ipython",
    "version": 3
   },
   "file_extension": ".py",
   "mimetype": "text/x-python",
   "name": "python",
   "nbconvert_exporter": "python",
   "pygments_lexer": "ipython3",
   "version": "3.10.9"
  }
 },
 "nbformat": 4,
 "nbformat_minor": 5
}
